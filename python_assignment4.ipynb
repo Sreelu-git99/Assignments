{
 "cells": [
  {
   "cell_type": "code",
   "execution_count": 23,
   "metadata": {},
   "outputs": [
    {
     "name": "stdin",
     "output_type": "stream",
     "text": [
      "enter the lengths of sides of triangle:  5 5 5\n"
     ]
    },
    {
     "name": "stdout",
     "output_type": "stream",
     "text": [
      "Area of triangle is: 10.825317547305483\n"
     ]
    }
   ],
   "source": [
    "'''Write a Python Program(with class concepts) to find the area of the triangle using the below\n",
    "formula.\n",
    "area = (s*(s-a)*(s-b)*(s-c)) ** 0.5\n",
    "Function to take the length of the sides of triangle from user should be defined in the parent\n",
    "class and function to calculate the area should be defined in subclass.'''\n",
    "\n",
    "class AreaOfTriangle:\n",
    "    \n",
    "    def __init__(self, a, b, c, semiperimeter):\n",
    "        self.a = a\n",
    "        self.b = b\n",
    "        self.c = c\n",
    "        self.s = semiperimeter\n",
    "    \n",
    "    def Area(self):\n",
    "        return (self.s*(self.s - self.a)*(self.s - self.b)*(self.s - self.c))**0.5\n",
    "\n",
    "# taking three sides of traingle as input.\n",
    "a, b, c = map(float, input('enter the lengths of sides of triangle: ').split())\n",
    "\n",
    "# calculation of semiperimeter.\n",
    "s = (a + b + c)/ 2\n",
    "\n",
    "# creation of an object that calls the class AreaOfTriangle.\n",
    "obj = AreaOfTriangle(a, b, c, s)\n",
    "\n",
    "print('Area of triangle is: {}'.format(obj.Area()))"
   ]
  },
  {
   "cell_type": "code",
   "execution_count": 25,
   "metadata": {},
   "outputs": [
    {
     "name": "stdin",
     "output_type": "stream",
     "text": [
      "enter length of word:  5\n",
      "enter num of words:  5\n",
      "enter word:  samolina\n",
      "enter word:  richard\n",
      "enter word:  kathy\n",
      "enter word:  versatile\n",
      "enter word:  dwell\n"
     ]
    },
    {
     "data": {
      "text/plain": [
       "['samolina', 'richard', 'versatile']"
      ]
     },
     "execution_count": 25,
     "metadata": {},
     "output_type": "execute_result"
    }
   ],
   "source": [
    "'''Write a function filter_long_words() that takes a list of words and an integer n and returns\n",
    "the list of words that are longer than n.'''\n",
    "\n",
    "def filter_long_words(lis, n):\n",
    "    new_list = []\n",
    "    for item in lis:\n",
    "        if len(item) > n:\n",
    "            new_list.append(item)\n",
    "    return new_list\n",
    "# length of word limit.\n",
    "n = int(input('enter length of word: '))\n",
    "\n",
    "# number of words in list.\n",
    "m = int(input('enter num of words: '))\n",
    "\n",
    "# take each word as input from user.\n",
    "lis = [input('enter word: ') for it in range(m)]\n",
    "\n",
    "# calling the function to filter the words having length greater than n.\n",
    "filter_long_words(lis, n)"
   ]
  },
  {
   "cell_type": "code",
   "execution_count": 3,
   "metadata": {},
   "outputs": [
    {
     "name": "stdout",
     "output_type": "stream",
     "text": [
      "length of the corresponding words are: [4, 5, 6, 9]\n"
     ]
    }
   ],
   "source": [
    "'''Write a Python program using function concept that maps list of words into a list of integers\n",
    "representing the lengths of the corresponding words.\n",
    "Hint: If a list [ ab,cde,erty] is passed on to the python function output should come as [2,3,4]\n",
    "Here 2,3 and 4 are the lengths of the words in the list.'''\n",
    "\n",
    "def get_length_of_word(lst):\n",
    "    l = list(map(len, lst))\n",
    "    return l\n",
    "lst = ['hema', 'kathy', 'vidhya', 'vaishnavi']\n",
    "print('length of the corresponding words are: {}'.format(get_length_of_word(lst)))"
   ]
  },
  {
   "cell_type": "code",
   "execution_count": 47,
   "metadata": {},
   "outputs": [
    {
     "name": "stdin",
     "output_type": "stream",
     "text": [
      "enter a character:  mambs\n"
     ]
    },
    {
     "name": "stdout",
     "output_type": "stream",
     "text": [
      "mambs is not a valid character. Make sure the character length does not exceed 1.\n"
     ]
    }
   ],
   "source": [
    "'''2.2 Write a Python function which takes a character (i.e. a string of length 1) and returns True if\n",
    "it is a vowel, False otherwise.'''\n",
    "\n",
    "def VowelOrNot(ch):\n",
    "    vowels = ['a','e','i','o','u']\n",
    "    if len(ch) == 1:\n",
    "        if ch.isupper():\n",
    "            if ch.lower() in vowels:\n",
    "                return True\n",
    "            else:\n",
    "                return False\n",
    "        else:\n",
    "            if ch in vowels:\n",
    "                return True\n",
    "            else:\n",
    "                return False\n",
    "    else:\n",
    "        print('{} is not a valid character. Make sure the character length does not exceed 1.'.format(ch))\n",
    "            \n",
    "letter = input('enter a character: ')\n",
    "VowelOrNot(letter)"
   ]
  },
  {
   "cell_type": "code",
   "execution_count": null,
   "metadata": {},
   "outputs": [],
   "source": []
  }
 ],
 "metadata": {
  "kernelspec": {
   "display_name": "Python 3",
   "language": "python",
   "name": "python3"
  },
  "language_info": {
   "codemirror_mode": {
    "name": "ipython",
    "version": 3
   },
   "file_extension": ".py",
   "mimetype": "text/x-python",
   "name": "python",
   "nbconvert_exporter": "python",
   "pygments_lexer": "ipython3",
   "version": "3.7.4"
  }
 },
 "nbformat": 4,
 "nbformat_minor": 4
}
