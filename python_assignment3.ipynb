{
 "cells": [
  {
   "cell_type": "code",
   "execution_count": 108,
   "metadata": {},
   "outputs": [],
   "source": [
    "'''Write a Python Program to implement your own myreduce() function which works exactly\n",
    "like Python's built-in function reduce()'''\n",
    "\n",
    "# Function equivalent to reduce() function\n",
    "def myreduce(func, iterable):\n",
    "    first = iterable[0]\n",
    "    for item in iterable[1:]:\n",
    "        first = func(first, item)\n",
    "    return first    "
   ]
  },
  {
   "cell_type": "code",
   "execution_count": 109,
   "metadata": {},
   "outputs": [
    {
     "name": "stdout",
     "output_type": "stream",
     "text": [
      "[1, 3, 5, 7]\n"
     ]
    }
   ],
   "source": [
    "'''Write a Python program to implement your own myfilter() function which works exactly\n",
    "like Python's built-in function filter()'''\n",
    "\n",
    "# Function equivalent to filter() in python\n",
    "def myfilter(func, iterable):\n",
    "    l = []\n",
    "    for item in iterable:\n",
    "        val = func(item)\n",
    "        if val != None:\n",
    "            l.append(val)\n",
    "    return l\n",
    "\n",
    "def check_even(num):\n",
    "    if num % 2 != 0:\n",
    "        return num\n",
    "\n",
    "print(myfilter(check_even,[1,2,3,4,5,6,7] ))"
   ]
  },
  {
   "cell_type": "code",
   "execution_count": 110,
   "metadata": {},
   "outputs": [
    {
     "data": {
      "text/plain": [
       "['x', 'xx', 'xxx', 'xxxx', 'y', 'yy', 'yyy', 'yyyy', 'z', 'zz', 'zzz', 'zzzz']"
      ]
     },
     "execution_count": 110,
     "metadata": {},
     "output_type": "execute_result"
    }
   ],
   "source": [
    "'''Implement List comprehensions to produce the following lists.\n",
    "Write List comprehensions to produce the following Lists\n",
    "\n",
    "['x', 'xx', 'xxx', 'xxxx', 'y', 'yy', 'yyy', 'yyyy', 'z', 'zz', 'zzz', 'zzzz']'''\n",
    "\n",
    "l = ['x'*i for i in range(1,5)]+['y'*j for j in range(1,5)]+['z'*k for k in range(1,5)]\n",
    "l"
   ]
  },
  {
   "cell_type": "code",
   "execution_count": 111,
   "metadata": {},
   "outputs": [
    {
     "data": {
      "text/plain": [
       "['x', 'y', 'z', 'xx', 'yy', 'zz', 'xxx', 'yyy', 'zzz', 'xxxx', 'yyyy', 'zzzz']"
      ]
     },
     "execution_count": 111,
     "metadata": {},
     "output_type": "execute_result"
    }
   ],
   "source": [
    "'''Implement List comprehensions to produce the following lists.\n",
    "Write List comprehensions to produce the following Lists\n",
    "\n",
    "['x', 'y', 'z', 'xx', 'yy', 'zz', 'xxx', 'yyy', 'zzz', 'xxxx', 'yyyy', 'zzzz']'''\n",
    "\n",
    "l = ['x','y','z']\n",
    "[item*i for i in range(1,5) for item in l]"
   ]
  },
  {
   "cell_type": "code",
   "execution_count": 112,
   "metadata": {},
   "outputs": [
    {
     "data": {
      "text/plain": [
       "[[[2], [3], [4], [3], [4], [5], [4], [5], [6]],\n",
       " [[2, 3, 4, 5], [3, 4, 5, 6], [4, 5, 6, 7], [5, 6, 7, 8]]]"
      ]
     },
     "execution_count": 112,
     "metadata": {},
     "output_type": "execute_result"
    }
   ],
   "source": [
    "'''Implement List comprehensions to produce the following lists.\n",
    "Write List comprehensions to produce the following Lists\n",
    "\n",
    "[[2], [3], [4], [3], [4], [5], [4], [5], [6]] [[2, 3, 4, 5], [3, 4, 5, 6],\n",
    "[4, 5, 6, 7], [5, 6, 7, 8]]'''\n",
    "\n",
    "# creation of two lists ind and ind1\n",
    "ind = [2,3,4,5,6]\n",
    "ind1 = [2,3,4,5,6,7,8]\n",
    "\n",
    "# using list slicing to get the desired lists.\n",
    "l = ind[:3] + ind[1:4]+ ind[2:]\n",
    "\n",
    "l1 = [ind1[:4]] + [ind1[1:5]] + [ind1[2:6]] + [ind1[3:]]\n",
    "\n",
    "m = [[[l[i]] for i in range(len(l))]] + [[l1[i] for i in range(len(l1))]]\n",
    "m"
   ]
  },
  {
   "cell_type": "code",
   "execution_count": 113,
   "metadata": {},
   "outputs": [
    {
     "data": {
      "text/plain": [
       "[(1, 1), (2, 1), (3, 1), (1, 2), (2, 2), (3, 2), (1, 3), (2, 3), (3, 3)]"
      ]
     },
     "execution_count": 113,
     "metadata": {},
     "output_type": "execute_result"
    }
   ],
   "source": [
    "'''Implement List comprehensions to produce the following lists.\n",
    "Write List comprehensions to produce the following Lists\n",
    "\n",
    "[(1, 1), (2, 1), (3, 1), (1, 2), (2, 2), (3, 2), (1, 3), (2, 3), (3, 3)]'''\n",
    "\n",
    "# creation of list [1,2,3,1,2,3,1,2,3]\n",
    "l = [i for i in range(1,4)]*3 \n",
    "\n",
    "# creation of list [1,1,1,2,2,2,3,3,3]\n",
    "l2 = [i for i in range(1,2)]*3 + [i+1 for i in range(1,2)]*3 + [i+2 for i in range(1,2)]*3\n",
    "\n",
    "# zipping of l and l2 to obtain the final pattern.\n",
    "m = [j for j in zip(l,l2)]\n",
    "\n",
    "# direct one-line method to perform the same operation.\n",
    "l1 = [(j,i) for i in range(1,4) for j in range(1,4)]\n",
    "m"
   ]
  },
  {
   "cell_type": "code",
   "execution_count": null,
   "metadata": {},
   "outputs": [],
   "source": []
  }
 ],
 "metadata": {
  "kernelspec": {
   "display_name": "Python 3",
   "language": "python",
   "name": "python3"
  },
  "language_info": {
   "codemirror_mode": {
    "name": "ipython",
    "version": 3
   },
   "file_extension": ".py",
   "mimetype": "text/x-python",
   "name": "python",
   "nbconvert_exporter": "python",
   "pygments_lexer": "ipython3",
   "version": "3.7.4"
  }
 },
 "nbformat": 4,
 "nbformat_minor": 4
}
